{
 "cells": [
  {
   "cell_type": "code",
   "execution_count": 1,
   "id": "07e4799c-1441-424e-8075-82c937e5eded",
   "metadata": {},
   "outputs": [],
   "source": [
    "# ORM -> SqlAlchemy\n",
    "# Database Adapter -> Psycopg2"
   ]
  },
  {
   "cell_type": "code",
   "execution_count": 2,
   "id": "95cc7c1b-7fb1-4d4d-902d-441ce2b91e31",
   "metadata": {},
   "outputs": [
    {
     "name": "stdout",
     "output_type": "stream",
     "text": [
      "Requirement already satisfied: psycopg2 in c:\\users\\pc1\\miniconda3\\envs\\my_env\\lib\\site-packages (2.9.10)\n"
     ]
    }
   ],
   "source": [
    "!pip install psycopg2\n"
   ]
  },
  {
   "cell_type": "code",
   "execution_count": 4,
   "id": "8455223e-40cf-44c4-9288-47c1762d1eb6",
   "metadata": {},
   "outputs": [],
   "source": [
    "import psycopg2\n",
    "\n",
    "connection = psycopg2.connect(\n",
    "    dbname='testdb',\n",
    "    user='postgres',\n",
    "    password='1234',\n",
    "    host='193.203.191.79',\n",
    "    port='32001'\n",
    ")\n",
    "\n",
    "query = \"Select * from users\""
   ]
  },
  {
   "cell_type": "code",
   "execution_count": 5,
   "id": "274e4758-64b1-4321-80a5-1c5b61c12adc",
   "metadata": {},
   "outputs": [
    {
     "name": "stderr",
     "output_type": "stream",
     "text": [
      "C:\\Users\\PC1\\AppData\\Local\\Temp\\ipykernel_37320\\1197474191.py:3: UserWarning: pandas only supports SQLAlchemy connectable (engine/connection) or database string URI or sqlite3 DBAPI2 connection. Other DBAPI2 objects are not tested. Please consider using SQLAlchemy.\n",
      "  df = pd.read_sql(query, connection)\n"
     ]
    },
    {
     "data": {
      "text/html": [
       "<div>\n",
       "<style scoped>\n",
       "    .dataframe tbody tr th:only-of-type {\n",
       "        vertical-align: middle;\n",
       "    }\n",
       "\n",
       "    .dataframe tbody tr th {\n",
       "        vertical-align: top;\n",
       "    }\n",
       "\n",
       "    .dataframe thead th {\n",
       "        text-align: right;\n",
       "    }\n",
       "</style>\n",
       "<table border=\"1\" class=\"dataframe\">\n",
       "  <thead>\n",
       "    <tr style=\"text-align: right;\">\n",
       "      <th></th>\n",
       "      <th>id</th>\n",
       "      <th>name</th>\n",
       "      <th>email</th>\n",
       "      <th>review</th>\n",
       "      <th>rating</th>\n",
       "    </tr>\n",
       "  </thead>\n",
       "  <tbody>\n",
       "    <tr>\n",
       "      <th>0</th>\n",
       "      <td>1</td>\n",
       "      <td>Raymond Howard</td>\n",
       "      <td>erodriguez@example.net</td>\n",
       "      <td>Partner trouble serious sign bar follow. Assum...</td>\n",
       "      <td>6.8</td>\n",
       "    </tr>\n",
       "    <tr>\n",
       "      <th>1</th>\n",
       "      <td>2</td>\n",
       "      <td>Robert Mccarthy</td>\n",
       "      <td>williamsjames@example.org</td>\n",
       "      <td>Truth region personal how position technology....</td>\n",
       "      <td>2.1</td>\n",
       "    </tr>\n",
       "    <tr>\n",
       "      <th>2</th>\n",
       "      <td>3</td>\n",
       "      <td>Sean Russell</td>\n",
       "      <td>linda46@example.org</td>\n",
       "      <td>Figure news significant stock. Scientist voice...</td>\n",
       "      <td>2.9</td>\n",
       "    </tr>\n",
       "  </tbody>\n",
       "</table>\n",
       "</div>"
      ],
      "text/plain": [
       "   id             name                      email                                             review  rating\n",
       "0   1   Raymond Howard     erodriguez@example.net  Partner trouble serious sign bar follow. Assum...     6.8\n",
       "1   2  Robert Mccarthy  williamsjames@example.org  Truth region personal how position technology....     2.1\n",
       "2   3     Sean Russell        linda46@example.org  Figure news significant stock. Scientist voice...     2.9"
      ]
     },
     "execution_count": 5,
     "metadata": {},
     "output_type": "execute_result"
    }
   ],
   "source": [
    "import pandas as pd\n",
    "\n",
    "df = pd.read_sql(query, connection)\n",
    "df.head(3)"
   ]
  },
  {
   "cell_type": "code",
   "execution_count": 6,
   "id": "4b41a233-ce83-4ce2-9a9d-0e08caef55f1",
   "metadata": {},
   "outputs": [],
   "source": [
    "connection.close()"
   ]
  },
  {
   "cell_type": "code",
   "execution_count": 7,
   "id": "299e7ee2-d5e9-4901-8c3a-7ab96170a59f",
   "metadata": {},
   "outputs": [
    {
     "data": {
      "text/plain": [
       "(4011, 5)"
      ]
     },
     "execution_count": 7,
     "metadata": {},
     "output_type": "execute_result"
    }
   ],
   "source": [
    "df.shape"
   ]
  },
  {
   "cell_type": "code",
   "execution_count": 8,
   "id": "75b97458-4f7c-4a71-b610-b3de7224beb3",
   "metadata": {},
   "outputs": [],
   "source": [
    "texts = df['review'].values\n",
    "ratings = df['rating'].values"
   ]
  },
  {
   "cell_type": "code",
   "execution_count": 14,
   "id": "0a5b1d76-b8ec-4b7d-8d20-40f795d7a036",
   "metadata": {},
   "outputs": [],
   "source": [
    "#!pip install scikit-learn"
   ]
  },
  {
   "cell_type": "code",
   "execution_count": 9,
   "id": "50765976-8c2b-4e91-a151-17ce5d6f0529",
   "metadata": {},
   "outputs": [],
   "source": [
    "from sklearn.model_selection import train_test_split\n",
    "\n",
    "X_train, X_test, y_train, y_test = train_test_split(texts,ratings,test_size=0.3, random_state=42)"
   ]
  },
  {
   "cell_type": "code",
   "execution_count": 16,
   "id": "6575d055-1292-40a7-be2a-e67b2a6e8418",
   "metadata": {},
   "outputs": [],
   "source": [
    "#!pip install tensorflow"
   ]
  },
  {
   "cell_type": "code",
   "execution_count": 18,
   "id": "77f56527-da6d-4693-b84c-cff26e60bc3c",
   "metadata": {},
   "outputs": [],
   "source": [
    "from tensorflow.keras.preprocessing.text import Tokenizer\n",
    "\n",
    "tokenizer = Tokenizer(num_words=10000, oov_token='<OOV>') # Out-of vocabulary\n",
    "tokenizer.fit_on_texts(X_train)"
   ]
  },
  {
   "cell_type": "code",
   "execution_count": 25,
   "id": "60c7a8fd-49e4-4a5c-865f-38cbc6c1a49f",
   "metadata": {},
   "outputs": [],
   "source": [
    "#tokenizer.word_index # Answer simple figure  => [182, 184, 173]"
   ]
  },
  {
   "cell_type": "code",
   "execution_count": 26,
   "id": "f42c6b12-8df4-427d-856f-624e81ff4428",
   "metadata": {},
   "outputs": [],
   "source": [
    "X_train_seq = tokenizer.texts_to_sequences(X_train)\n",
    "X_test_seq = tokenizer.texts_to_sequences(X_test)"
   ]
  },
  {
   "cell_type": "code",
   "execution_count": 27,
   "id": "f22e29eb-fd3a-48e6-976b-9b60689a11fd",
   "metadata": {},
   "outputs": [],
   "source": [
    "#X_train_seq[0], X_train[0]"
   ]
  },
  {
   "cell_type": "code",
   "execution_count": 28,
   "id": "952a5e67-6f3a-400e-b2d2-e660412de227",
   "metadata": {},
   "outputs": [],
   "source": [
    "# Padding -> (50) => 50'den kısa cümleler için başına ya da sonuna 0 ekle. (0 => Boşluk) || 50'den büyükse 50şerlik arrayleri böl.\n",
    "from tensorflow.keras.preprocessing.sequence import pad_sequences\n",
    "\n",
    "X_train_pad = pad_sequences(X_train_seq, maxlen=50, padding=\"post\")\n",
    "X_test_pad = pad_sequences(X_test_seq, maxlen=50, padding=\"post\")\n",
    "#"
   ]
  },
  {
   "cell_type": "code",
   "execution_count": null,
   "id": "80a9c8da-8953-4829-bdc4-2939681d255e",
   "metadata": {},
   "outputs": [],
   "source": [
    "#Ödev 1 => Aktivasyon fonksiyonu nedir, ne işe yarar? Aktivasyon fonksiyon türleri nelerdir?\n",
    " \n",
    "import tensorflow as tf\n",
    "\n",
    "model = tf.keras.Sequential([\n",
    "    tf.keras.layers.Embedding(input_dim=10000, output_dim=64, input_length=50), #Kelimeleri vektörlere çevirir.\n",
    "    tf.keras.layers.Bidirectional(tf.keras.layers.LSTM(64)), # Bidirectional -> Soldan sağa ve sağdan sola, #LSTM => Long short-term Memory -> 128 nöronluk çıktı.\n",
    "    tf.keras.layers.Dense(32, activation=\"relu\"), # Non-linear bi yapı kurarak gerçek hayata yaklaşmak. max(0,z)\n",
    "    tf.keras.layers.Dropout(0.4), # Her çalıştırmada rastgele verilen oranda nöronu kapatır.\n",
    "    tf.keras.layers.Dense(1, activation=\"linear\") # linear => f(x)=x # 1-> Çıktı adet sayısı.\n",
    "])\n",
    "\n"
   ]
  }
 ],
 "metadata": {
  "kernelspec": {
   "display_name": "Python 3 (ipykernel)",
   "language": "python",
   "name": "python3"
  },
  "language_info": {
   "codemirror_mode": {
    "name": "ipython",
    "version": 3
   },
   "file_extension": ".py",
   "mimetype": "text/x-python",
   "name": "python",
   "nbconvert_exporter": "python",
   "pygments_lexer": "ipython3",
   "version": "3.11.11"
  }
 },
 "nbformat": 4,
 "nbformat_minor": 5
}
