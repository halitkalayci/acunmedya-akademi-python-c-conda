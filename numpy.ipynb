{
 "cells": [
  {
   "cell_type": "markdown",
   "id": "d81bd0b3-960c-497d-98ae-75c0d36b1bd4",
   "metadata": {},
   "source": [
    "### Numpy (Numeric Python)\n",
    "\n",
    "### Matematik bilimindeki işlemleri yapabilen aşırı hızlı bir kütüphane. (C ve Fortran dilinde yazılması)"
   ]
  },
  {
   "cell_type": "code",
   "execution_count": 1,
   "id": "037ae6b1-ce2e-42fa-90f2-a503dba02256",
   "metadata": {},
   "outputs": [
    {
     "name": "stdout",
     "output_type": "stream",
     "text": [
      "Requirement already satisfied: numpy in c:\\users\\pc1\\miniconda3\\envs\\python_c\\lib\\site-packages (2.0.2)\n"
     ]
    }
   ],
   "source": [
    "!pip install numpy"
   ]
  },
  {
   "cell_type": "code",
   "execution_count": 2,
   "id": "268384cc-3120-496f-9d56-8fe6d4e22406",
   "metadata": {},
   "outputs": [],
   "source": [
    "import numpy as np"
   ]
  },
  {
   "cell_type": "code",
   "execution_count": 4,
   "id": "fee97d65-c664-42f0-9c6a-f82c28fe04d0",
   "metadata": {},
   "outputs": [
    {
     "data": {
      "text/plain": [
       "array([1, 2, 3, 4, 5])"
      ]
     },
     "execution_count": 4,
     "metadata": {},
     "output_type": "execute_result"
    }
   ],
   "source": [
    "## ndarray -> N Dimension\n",
    "\n",
    "np_arr = np.array([1,2,3,4,5])\n",
    "np_arr"
   ]
  },
  {
   "cell_type": "code",
   "execution_count": 5,
   "id": "eb8068dd-4629-42cf-825f-ad56724b7347",
   "metadata": {},
   "outputs": [
    {
     "data": {
      "text/plain": [
       "[10, 20, 30, 40, 50]"
      ]
     },
     "execution_count": 5,
     "metadata": {},
     "output_type": "execute_result"
    }
   ],
   "source": [
    "python_arr = [10,20,30,40,50]\n",
    "python_arr"
   ]
  },
  {
   "cell_type": "code",
   "execution_count": 6,
   "id": "1f44d8c6-b7ff-4634-9448-ee09ce5e3541",
   "metadata": {},
   "outputs": [
    {
     "data": {
      "text/plain": [
       "(numpy.ndarray, list)"
      ]
     },
     "execution_count": 6,
     "metadata": {},
     "output_type": "execute_result"
    }
   ],
   "source": [
    "type(np_arr), type(python_arr)"
   ]
  },
  {
   "cell_type": "code",
   "execution_count": 7,
   "id": "c4349d31-bbfc-4dc2-bab0-5efe01906624",
   "metadata": {},
   "outputs": [],
   "source": [
    "p_array2 = list(range(1_000_000))\n",
    "n_array2 = np.array(p_array2)"
   ]
  },
  {
   "cell_type": "code",
   "execution_count": 8,
   "id": "77b86f60-0f51-41d2-b499-d8a5072dc6f5",
   "metadata": {},
   "outputs": [
    {
     "name": "stdout",
     "output_type": "stream",
     "text": [
      "46.2 ms ± 708 µs per loop (mean ± std. dev. of 7 runs, 10 loops each)\n"
     ]
    }
   ],
   "source": [
    "%%timeit\n",
    "[x+1 for x in p_array2] # p_array2deki her elemana bir ekle"
   ]
  },
  {
   "cell_type": "code",
   "execution_count": 9,
   "id": "8a43eb56-1d80-40af-9a41-6c914fde2a00",
   "metadata": {},
   "outputs": [
    {
     "name": "stdout",
     "output_type": "stream",
     "text": [
      "1.4 ms ± 26 µs per loop (mean ± std. dev. of 7 runs, 1,000 loops each)\n"
     ]
    }
   ],
   "source": [
    "%%timeit\n",
    "n_array2 + 1 # n_array2'deki her elemana bir ekle"
   ]
  },
  {
   "cell_type": "code",
   "execution_count": 11,
   "id": "8403aca9-0d05-4a01-83a5-a158a1b18357",
   "metadata": {},
   "outputs": [
    {
     "data": {
      "text/plain": [
       "(1000000,)"
      ]
     },
     "execution_count": 11,
     "metadata": {},
     "output_type": "execute_result"
    }
   ],
   "source": [
    "n_array2.shape"
   ]
  },
  {
   "cell_type": "code",
   "execution_count": 13,
   "id": "74ff0e17-5b68-407a-a0a5-6b770cc55fd4",
   "metadata": {},
   "outputs": [
    {
     "data": {
      "text/plain": [
       "1"
      ]
     },
     "execution_count": 13,
     "metadata": {},
     "output_type": "execute_result"
    }
   ],
   "source": [
    "n_array2.ndim # n dimension"
   ]
  },
  {
   "cell_type": "markdown",
   "id": "4eb924bb-35af-4e05-9fb8-e028452c86f2",
   "metadata": {},
   "source": [
    "### Numpyda 10 adet özellik-fonksiyon araştırıp kullanım amaçlarıyla birlikte örneklendirdiğimiz bir ipynb dosyası hazırlayalım."
   ]
  },
  {
   "cell_type": "code",
   "execution_count": 14,
   "id": "5aac62ba-d530-4145-8174-b96f6ebab4ad",
   "metadata": {},
   "outputs": [],
   "source": [
    "### Vectorler, Matrisler, Tensorler"
   ]
  },
  {
   "cell_type": "code",
   "execution_count": 5,
   "id": "fb4490df-23e9-4395-8016-61cfe05d4588",
   "metadata": {},
   "outputs": [
    {
     "data": {
      "text/plain": [
       "(0, ())"
      ]
     },
     "execution_count": 5,
     "metadata": {},
     "output_type": "execute_result"
    }
   ],
   "source": [
    "import numpy as np\n",
    "scalar_arr = np.array( 1 )\n",
    "# ndim -> n dimension (Kaç boyutlu?)\n",
    "# shape -> şekil?\n",
    "scalar_arr.ndim, scalar_arr.shape"
   ]
  },
  {
   "cell_type": "code",
   "execution_count": 6,
   "id": "4099b9bf-1297-4b53-8b27-1dddf1f6bc1c",
   "metadata": {},
   "outputs": [
    {
     "data": {
      "text/plain": [
       "(1, (3,))"
      ]
     },
     "execution_count": 6,
     "metadata": {},
     "output_type": "execute_result"
    }
   ],
   "source": [
    "vector_arr = np.array( [10,20,30] )\n",
    "vector_arr.ndim, vector_arr.shape # 1D, (3,)"
   ]
  },
  {
   "cell_type": "code",
   "execution_count": 7,
   "id": "1e7cac31-e771-4576-9631-bf5a5d92e220",
   "metadata": {},
   "outputs": [
    {
     "data": {
      "text/plain": [
       "(2, (2, 3))"
      ]
     },
     "execution_count": 7,
     "metadata": {},
     "output_type": "execute_result"
    }
   ],
   "source": [
    "matrix_arr = np.array(\n",
    "    [\n",
    "        [10,20,30],\n",
    "        [40,50,60]\n",
    "    ]\n",
    ")\n",
    "matrix_arr.ndim, matrix_arr.shape"
   ]
  },
  {
   "cell_type": "code",
   "execution_count": 8,
   "id": "4ad4af43-c131-46bc-9757-2b09696408dd",
   "metadata": {},
   "outputs": [
    {
     "data": {
      "text/plain": [
       "(2, (2, 3))"
      ]
     },
     "execution_count": 8,
     "metadata": {},
     "output_type": "execute_result"
    }
   ],
   "source": [
    "matrix_arr2 = np.array(\n",
    "    [\n",
    "        [70,80,90],\n",
    "        [100,110,120]\n",
    "    ]\n",
    ")\n",
    "matrix_arr2.ndim, matrix_arr.shape"
   ]
  },
  {
   "cell_type": "code",
   "execution_count": 11,
   "id": "78ce5de7-e053-4a88-96e1-e1b24f80d0e5",
   "metadata": {},
   "outputs": [
    {
     "data": {
      "text/plain": [
       "array([[ 80, 100, 120],\n",
       "       [140, 160, 180]])"
      ]
     },
     "execution_count": 11,
     "metadata": {},
     "output_type": "execute_result"
    }
   ],
   "source": [
    "# Şekiller uyuşuyor ise! 4 işlem yapılabilir.\n",
    "result = matrix_arr + matrix_arr2\n",
    "result"
   ]
  },
  {
   "cell_type": "code",
   "execution_count": 10,
   "id": "220e188d-4c8a-42c1-b775-985a5b1bddee",
   "metadata": {},
   "outputs": [
    {
     "data": {
      "text/plain": [
       "array([[ 700, 1600, 2700],\n",
       "       [4000, 5500, 7200]])"
      ]
     },
     "execution_count": 10,
     "metadata": {},
     "output_type": "execute_result"
    }
   ],
   "source": [
    "result2 = matrix_arr * matrix_arr2\n",
    "result2"
   ]
  },
  {
   "cell_type": "code",
   "execution_count": 12,
   "id": "7669f7d8-c030-417e-afaa-714475b66940",
   "metadata": {},
   "outputs": [
    {
     "data": {
      "text/plain": [
       "(3, 2)"
      ]
     },
     "execution_count": 12,
     "metadata": {},
     "output_type": "execute_result"
    }
   ],
   "source": [
    "matrix_arr3 = np.array(\n",
    "    [\n",
    "        [100,120],\n",
    "        [140, 160],\n",
    "        [180, 200]\n",
    "    ]\n",
    ")\n",
    "matrix_arr3.shape"
   ]
  },
  {
   "cell_type": "code",
   "execution_count": 19,
   "id": "6fa6ddca-4087-4231-9046-9e96d53df062",
   "metadata": {},
   "outputs": [],
   "source": [
    "#result3 = matrix_arr2 + matrix_arr3"
   ]
  },
  {
   "cell_type": "code",
   "execution_count": 18,
   "id": "e8b8d76b-2abb-4f01-a30a-a5998fa97f44",
   "metadata": {},
   "outputs": [
    {
     "data": {
      "text/plain": [
       "array([[170, 200, 230],\n",
       "       [260, 290, 320]])"
      ]
     },
     "execution_count": 18,
     "metadata": {},
     "output_type": "execute_result"
    }
   ],
   "source": [
    "# Reshape işlemi\n",
    "result3 = matrix_arr2 + matrix_arr3.reshape(2,3)\n",
    "result3"
   ]
  },
  {
   "cell_type": "code",
   "execution_count": 20,
   "id": "04d70e8f-1b50-4194-8592-c1024fe10b8f",
   "metadata": {},
   "outputs": [
    {
     "data": {
      "text/plain": [
       "(3, (3, 2, 4))"
      ]
     },
     "execution_count": 20,
     "metadata": {},
     "output_type": "execute_result"
    }
   ],
   "source": [
    "# 3D+ arrayler -> Tensör\n",
    "tensor_arr = np.array(\n",
    "    [\n",
    "        [ [1,2,3,4], [5,6,7,8]  ],\n",
    "        [ [9,10,11,12], [13,14,15,16]  ],\n",
    "        [ [17,18,19,20], [21,22,23,24]  ]\n",
    "    ]\n",
    ")\n",
    "tensor_arr.ndim, tensor_arr.shape\n",
    "# satır,sütun, sütundaki eleman sayısı"
   ]
  },
  {
   "cell_type": "code",
   "execution_count": 21,
   "id": "cc95d198-863a-4cc6-8300-d35efadceb2f",
   "metadata": {},
   "outputs": [
    {
     "name": "stdout",
     "output_type": "stream",
     "text": [
      "Requirement already satisfied: Pillow in c:\\users\\pc1\\miniconda3\\envs\\my_env\\lib\\site-packages (11.1.0)\n"
     ]
    }
   ],
   "source": [
    "!pip install Pillow"
   ]
  },
  {
   "cell_type": "code",
   "execution_count": 22,
   "id": "a8466ea0-e6a0-4f00-8c7d-37444ba4cbb9",
   "metadata": {},
   "outputs": [],
   "source": [
    "from PIL import Image\n",
    "\n",
    "cat_img = Image.open(\"kedi.jpg\")"
   ]
  },
  {
   "cell_type": "code",
   "execution_count": 25,
   "id": "7cf540d2-672c-4a6a-9fbf-0c1f406b1668",
   "metadata": {},
   "outputs": [
    {
     "data": {
      "text/plain": [
       "(3, (1500, 1000, 3))"
      ]
     },
     "execution_count": 25,
     "metadata": {},
     "output_type": "execute_result"
    }
   ],
   "source": [
    "cat_img_arr = np.array(cat_img)\n",
    "cat_img_arr.ndim, cat_img_arr.shape"
   ]
  },
  {
   "cell_type": "code",
   "execution_count": 28,
   "id": "afce688e-941b-4115-b335-915c895b1a29",
   "metadata": {},
   "outputs": [
    {
     "data": {
      "text/plain": [
       "array([[13,  7,  9],\n",
       "       [13,  7,  9],\n",
       "       [13,  7,  9],\n",
       "       ...,\n",
       "       [76, 56, 47],\n",
       "       [72, 52, 43],\n",
       "       [71, 51, 42]], shape=(1000, 3), dtype=uint8)"
      ]
     },
     "execution_count": 28,
     "metadata": {},
     "output_type": "execute_result"
    }
   ],
   "source": [
    "cat_img_arr[1250]"
   ]
  },
  {
   "cell_type": "code",
   "execution_count": 29,
   "id": "7f0a5b4c-5342-4342-b785-e3c32af48e71",
   "metadata": {},
   "outputs": [
    {
     "data": {
      "text/plain": [
       "array([[[ 45, 199,  85],\n",
       "        [  5, 238, 108],\n",
       "        [122,  83, 106],\n",
       "        ...,\n",
       "        [ 47,  17,  11],\n",
       "        [156, 147, 148],\n",
       "        [151,  98,  98]],\n",
       "\n",
       "       [[115,  52, 121],\n",
       "        [209, 137, 159],\n",
       "        [ 23, 235,   5],\n",
       "        ...,\n",
       "        [130, 169, 216],\n",
       "        [ 23,  95, 160],\n",
       "        [ 52,  60, 253]],\n",
       "\n",
       "       [[ 90, 146,  91],\n",
       "        [ 26,  78, 212],\n",
       "        [132, 154, 188],\n",
       "        ...,\n",
       "        [133,  25,  26],\n",
       "        [ 22,   1, 203],\n",
       "        [ 60,  61, 119]],\n",
       "\n",
       "       ...,\n",
       "\n",
       "       [[161, 202, 121],\n",
       "        [ 88, 250, 227],\n",
       "        [136, 248, 176],\n",
       "        ...,\n",
       "        [163, 211,  18],\n",
       "        [ 69, 221,  73],\n",
       "        [ 78,  10,  65]],\n",
       "\n",
       "       [[ 94, 239, 236],\n",
       "        [253, 179,  83],\n",
       "        [ 61, 127, 151],\n",
       "        ...,\n",
       "        [158, 140, 108],\n",
       "        [ 61, 209,  44],\n",
       "        [ 57,  94,  47]],\n",
       "\n",
       "       [[116,  84,  75],\n",
       "        [104,  71, 238],\n",
       "        [ 35,  70,  66],\n",
       "        ...,\n",
       "        [174,  54,  77],\n",
       "        [240,  89, 242],\n",
       "        [231, 240,  45]]], shape=(100, 100, 3), dtype=int32)"
      ]
     },
     "execution_count": 29,
     "metadata": {},
     "output_type": "execute_result"
    }
   ],
   "source": [
    "image = np.random.randint(0,256, (100, 100, 3))\n",
    "image"
   ]
  },
  {
   "cell_type": "code",
   "execution_count": null,
   "id": "de708d37-fd34-4fb5-8ff3-35dba97b4d2b",
   "metadata": {},
   "outputs": [],
   "source": []
  }
 ],
 "metadata": {
  "kernelspec": {
   "display_name": "Python 3 (ipykernel)",
   "language": "python",
   "name": "python3"
  },
  "language_info": {
   "codemirror_mode": {
    "name": "ipython",
    "version": 3
   },
   "file_extension": ".py",
   "mimetype": "text/x-python",
   "name": "python",
   "nbconvert_exporter": "python",
   "pygments_lexer": "ipython3",
   "version": "3.11.11"
  }
 },
 "nbformat": 4,
 "nbformat_minor": 5
}
